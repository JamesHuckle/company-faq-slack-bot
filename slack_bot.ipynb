{
 "cells": [
  {
   "cell_type": "code",
   "execution_count": null,
   "metadata": {},
   "outputs": [],
   "source": [
    "import requests\n",
    "import pandas as pd\n",
    "import json\n",
    "import os\n",
    "from dotenv import load_dotenv\n",
    "\n",
    "# Load environment variables from .env file\n",
    "load_dotenv()\n",
    "#os.getenv('SLACK_BOT_TOKEN')"
   ]
  },
  {
   "cell_type": "code",
   "execution_count": null,
   "metadata": {},
   "outputs": [],
   "source": [
    "url = \"https://w53jc4dmcstis3kzbr5fzk2csi0hzpaz.lambda-url.eu-west-2.on.aws/\"\n",
    "\n",
    "# Define the verification payload\n",
    "payload = {\n",
    "    \"token\": \"your_verification_token\",  # Replace with your actual verification token\n",
    "    \"challenge\": \"your_challenge_code\",  # Replace with your actual challenge code\n",
    "    \"type\": \"url_verification\"\n",
    "}\n",
    "\n",
    "# Set the headers\n",
    "headers = {\n",
    "    'Content-Type': 'application/json'\n",
    "}\n",
    "\n",
    "# Send the POST request\n",
    "response = requests.post(url, headers=headers, data=json.dumps(payload))\n",
    "\n",
    "# Print the response\n",
    "print(f\"Status Code: {response.status_code}\")\n",
    "print(f\"Response Body: {response.text}\")"
   ]
  },
  {
   "cell_type": "code",
   "execution_count": null,
   "metadata": {},
   "outputs": [],
   "source": [
    "df = pd.read_csv('./sample_data/articles.csv', header=0)\n",
    "DATA_FILE_INDEX = ['title', 'heading']\n",
    "df = df.set_index(DATA_FILE_INDEX)\n",
    "for title_heading in [\n",
    "    (\"The Mandalorian - Season 1\", \"Chapter 1: The Mandalorian\"),\n",
    "    (\"The Mandalorian - Season 1\", \"Chapter 2: The Child\"),\n",
    "]:\n",
    "    df.drop(index=title_heading, inplace=True)\n",
    "df\n",
    "DATA_FILE_INDEX = ['title', 'heading']\n",
    "df.to_csv('./sample_data/articles-test.csv', index_label=DATA_FILE_INDEX)\n",
    "#df.reset_index().to_dict('records')\n",
    "##pd.read_csv('./sample_data/articles-test.csv', header=0)"
   ]
  }
 ],
 "metadata": {
  "kernelspec": {
   "display_name": "base",
   "language": "python",
   "name": "python3"
  },
  "language_info": {
   "codemirror_mode": {
    "name": "ipython",
    "version": 3
   },
   "file_extension": ".py",
   "mimetype": "text/x-python",
   "name": "python",
   "nbconvert_exporter": "python",
   "pygments_lexer": "ipython3",
   "version": "3.11.7"
  }
 },
 "nbformat": 4,
 "nbformat_minor": 2
}
